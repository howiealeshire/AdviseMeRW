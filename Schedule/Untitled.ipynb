{
 "cells": [
  {
   "cell_type": "code",
   "execution_count": 2,
   "metadata": {},
   "outputs": [
    {
     "name": "stdout",
     "output_type": "stream",
     "text": [
      "[]\n",
      "\n",
      "\n",
      "[]\n"
     ]
    },
    {
     "ename": "SystemExit",
     "evalue": "0",
     "output_type": "error",
     "traceback": [
      "An exception has occurred, use %tb to see the full traceback.\n",
      "\u001b[1;31mSystemExit\u001b[0m\u001b[1;31m:\u001b[0m 0\n"
     ]
    },
    {
     "name": "stderr",
     "output_type": "stream",
     "text": [
      "C:\\Users\\htaleshi\\AppData\\Local\\Continuum\\anaconda3\\lib\\site-packages\\IPython\\core\\interactiveshell.py:2918: UserWarning: To exit: use 'exit', 'quit', or Ctrl-D.\n",
      "  warn(\"To exit: use 'exit', 'quit', or Ctrl-D.\", stacklevel=1)\n"
     ]
    }
   ],
   "source": [
    "import sys\n",
    "from PyQt5 import QtCore, QtGui, QtWidgets\n",
    "from PyQt5.QtWidgets import QApplication, QMainWindow,QWidget,QTableWidget,QTableWidgetItem,QPushButton,QPlainTextEdit, QDialog, QComboBox, QCheckBox,QTimeEdit\n",
    "from dialog import Ui_Dialog\n",
    "from PyQt5.QtCore import pyqtSlot\n",
    "from operator import sub\n",
    "\n",
    "class Dialog(QDialog):\n",
    "    def __init__(self):\n",
    "        super(Dialog,self).__init__()\n",
    "        \n",
    "        self.ui = Ui_Dialog()\n",
    "        self.ui.setupUi(self)\n",
    "\n",
    "        tbl = self.ui.schedule_tbl\n",
    "        \n",
    "        self.in_file = open('workfile.txt')\n",
    "        self.preference_string = self.in_file.read()\n",
    "\n",
    " #       self.preference_string = self.preference_string.strip('(')\n",
    "#        self.preference_string = self.preference_string.strip(')')\n",
    "        self.preference_string = self.preference_string.split(sep=';')\n",
    "\n",
    "        self.preference_string = list(filter(None, self.preference_string)) # fastest\n",
    "\n",
    "        self.emp = []\n",
    "        for x in self.preference_string:\n",
    "            y = x.split(sep=',')\n",
    "            z = list(filter(None,y))\n",
    "            self.emp.append(z)\n",
    "            \n",
    "        \n",
    "                \n",
    "            \n",
    "        \n",
    " #       self.preferences = (self.preference_string,)\n",
    "        \n",
    "        pref_btn = self.ui.preferences_btn\n",
    "        rec_btn = self.ui.recommendations_btn\n",
    "        make_btn = self.ui.create_schedule_btn\n",
    "        lkahd_btn = self.ui.look_ahead_btn\n",
    "        \n",
    "        pref_btn.clicked.connect(self.gt_prefs)\n",
    "        rec_btn.clicked.connect(self.gt_rec)\n",
    "        make_btn.clicked.connect(self.mk_sched)\n",
    "        lkahd_btn.clicked.connect(self.lkahd)\n",
    "        \n",
    "        \n",
    "        \n",
    "        \n",
    "\n",
    "    @pyqtSlot()\n",
    "    def gt_prefs(self):\n",
    "        pass\n",
    "        \n",
    "   \n",
    "    @pyqtSlot()\n",
    "    def gt_rec(self):\n",
    "        pass\n",
    "        \n",
    "    @pyqtSlot()\n",
    "    def mk_sched(self):\n",
    "        pass\n",
    "        \n",
    "        \n",
    "    @pyqtSlot()\n",
    "    def lkahd(self):\n",
    "        pass\n",
    "\n",
    "\n",
    "\n",
    "\n",
    "\n",
    "def main():\n",
    "    app = QApplication(sys.argv)\n",
    "    dialog = Dialog()\n",
    "    dialog.show()\n",
    "    print(dialog.preference_string)\n",
    "    print('\\n')\n",
    "    print(dialog.emp)\n",
    "    sys.exit(app.exec_())\n",
    "\n",
    "\n",
    "if __name__ == '__main__':\n",
    "    main()"
   ]
  },
  {
   "cell_type": "code",
   "execution_count": null,
   "metadata": {},
   "outputs": [],
   "source": []
  }
 ],
 "metadata": {
  "kernelspec": {
   "display_name": "Python 3",
   "language": "python",
   "name": "python3"
  },
  "language_info": {
   "codemirror_mode": {
    "name": "ipython",
    "version": 3
   },
   "file_extension": ".py",
   "mimetype": "text/x-python",
   "name": "python",
   "nbconvert_exporter": "python",
   "pygments_lexer": "ipython3",
   "version": "3.6.4"
  }
 },
 "nbformat": 4,
 "nbformat_minor": 2
}
